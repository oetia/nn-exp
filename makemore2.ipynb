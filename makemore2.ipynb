{
 "cells": [
  {
   "cell_type": "code",
   "execution_count": 24,
   "metadata": {},
   "outputs": [],
   "source": [
    "import torch\n",
    "import torch.nn.functional as F\n",
    "import matplotlib.pyplot as plt\n",
    "from typing import List, Union, Any\n",
    "%matplotlib inline"
   ]
  },
  {
   "cell_type": "code",
   "execution_count": 3,
   "metadata": {},
   "outputs": [],
   "source": [
    "words = open(\"names.txt\").read().splitlines()"
   ]
  },
  {
   "cell_type": "code",
   "execution_count": 11,
   "metadata": {},
   "outputs": [],
   "source": [
    "# build dictionaries for lookups\n",
    "chars = [\".\"] + sorted(list(set(''.join(words))))\n",
    "char_to_idx = {char: idx for idx, char in enumerate(chars)}\n",
    "idx_to_char = {idx: char for char, idx in char_to_idx.items()}"
   ]
  },
  {
   "cell_type": "code",
   "execution_count": 34,
   "metadata": {},
   "outputs": [
    {
     "name": "stdout",
     "output_type": "stream",
     "text": [
      "emma\n",
      "..e ---> e\n",
      ".em ---> m\n",
      "emm ---> m\n",
      "mma ---> a\n",
      "ma. ---> .\n",
      "olivia\n",
      "..o ---> o\n",
      ".ol ---> l\n",
      "oli ---> i\n",
      "liv ---> v\n",
      "ivi ---> i\n",
      "via ---> a\n",
      "ia. ---> .\n",
      "ava\n",
      "..a ---> a\n",
      ".av ---> v\n",
      "ava ---> a\n",
      "va. ---> .\n",
      "isabella\n",
      "..i ---> i\n",
      ".is ---> s\n",
      "isa ---> a\n",
      "sab ---> b\n",
      "abe ---> e\n",
      "bel ---> l\n",
      "ell ---> l\n",
      "lla ---> a\n",
      "la. ---> .\n",
      "sophia\n",
      "..s ---> s\n",
      ".so ---> o\n",
      "sop ---> p\n",
      "oph ---> h\n",
      "phi ---> i\n",
      "hia ---> a\n",
      "ia. ---> .\n"
     ]
    }
   ],
   "source": [
    "# create dataset\n",
    "\n",
    "X_list: List[List[int]] = []; y_list: List[int] = []\n",
    "context_length = 3\n",
    "for word in words[:5]:\n",
    "    print(word)\n",
    "    \n",
    "    window = [0] * context_length\n",
    "    for char in word + \".\":\n",
    "        _x = window; X_list.append(_x)\n",
    "        _y = char_to_idx[char]; y_list.append(_y)\n",
    "        window = window[1:] + [char_to_idx[char]]\n",
    "        \n",
    "        print(f\"{''.join([idx_to_char[idx] for idx in window])} ---> {char}\")\n",
    "        \n",
    "X = torch.tensor(X_list); y = torch.tensor(y_list)"
   ]
  },
  {
   "cell_type": "code",
   "execution_count": 36,
   "metadata": {},
   "outputs": [
    {
     "data": {
      "text/plain": [
       "(torch.Size([32, 3]), torch.Size([32]))"
      ]
     },
     "execution_count": 36,
     "metadata": {},
     "output_type": "execute_result"
    }
   ],
   "source": [
    "X.shape, y.shape"
   ]
  },
  {
   "cell_type": "code",
   "execution_count": 39,
   "metadata": {},
   "outputs": [],
   "source": [
    "# lookup table for embedding characters\n",
    "# nn can learn these embeddings\n",
    "C = torch.randn((27, 2))"
   ]
  },
  {
   "cell_type": "code",
   "execution_count": 50,
   "metadata": {},
   "outputs": [
    {
     "data": {
      "text/plain": [
       "tensor([[ 0.1856, -0.4340]])"
      ]
     },
     "execution_count": 50,
     "metadata": {},
     "output_type": "execute_result"
    }
   ],
   "source": [
    "# embedding integers - these integers refer to a character\n",
    "onehot5 = torch.reshape(F.one_hot(torch.tensor(5), num_classes=27).float(), (1, 27))\n",
    "onehot5 @ C # masks out everything but 5th row. dot product taken w. this vector. \n",
    "# when matrix multiplying this row vector, you end up taking the fifth row of the C matrix\n",
    "# C[X[1]]\n",
    "\n",
    "# our inputs into the model are one-hot encoded vectors\n",
    "# the weight matrix that we're going to be multiplying with effectively just takes out a row\n",
    "# this is an alternative interpretation that is treated as a layer of the network\n",
    "\n",
    "# the way you would do it. \n",
    "# one hot encode the 17k words. the embedding matrix is going to be 17k x 30\n",
    "# since we're using a one hot encoding, matrix multiplying will get a single row which corresponds to a 1x30 vector. that vector is then plugged into later layers. "
   ]
  },
  {
   "cell_type": "code",
   "execution_count": 52,
   "metadata": {},
   "outputs": [
    {
     "data": {
      "text/plain": [
       "torch.Size([32, 3, 2])"
      ]
     },
     "execution_count": 52,
     "metadata": {},
     "output_type": "execute_result"
    }
   ],
   "source": [
    "# you can pass in a matrix of indices to pass in. \n",
    "# wil take all the embeddings at once\n",
    "C[X].shape # 32x3 matrix. each value gets a 2 dimensional embedding"
   ]
  },
  {
   "cell_type": "code",
   "execution_count": 54,
   "metadata": {},
   "outputs": [
    {
     "data": {
      "text/plain": [
       "torch.Size([32, 3, 2])"
      ]
     },
     "execution_count": 54,
     "metadata": {},
     "output_type": "execute_result"
    }
   ],
   "source": [
    "emb = C[X]\n",
    "emb.shape"
   ]
  },
  {
   "cell_type": "code",
   "execution_count": 60,
   "metadata": {},
   "outputs": [],
   "source": [
    "# the first hidden layer:\n",
    "# each neuron takes in a 3 2d vectors as input\n",
    "W1 = torch.randn((6, 100)) # first value is # inputs from prev layer. second value is # neurons\n",
    "b1 = torch.randn((100,))"
   ]
  },
  {
   "cell_type": "code",
   "execution_count": 59,
   "metadata": {},
   "outputs": [],
   "source": [
    "# torch.cat(torch.unbind(emb, dim=1), dim=1) # creates a new tensor through cat & unbind"
   ]
  },
  {
   "cell_type": "code",
   "execution_count": 62,
   "metadata": {},
   "outputs": [
    {
     "data": {
      "text/plain": [
       "torch.Size([32, 100])"
      ]
     },
     "execution_count": 62,
     "metadata": {},
     "output_type": "execute_result"
    }
   ],
   "source": [
    "h = torch.tanh(emb.view((-1, 6)) @ W1 + b1)\n",
    "h.shape # for each of the 32 examples, we have 100 neuron activations"
   ]
  },
  {
   "cell_type": "code",
   "execution_count": 63,
   "metadata": {},
   "outputs": [],
   "source": [
    "W2 = torch.randn((100, 27))\n",
    "b2 = torch.randn((27,))"
   ]
  },
  {
   "cell_type": "code",
   "execution_count": 67,
   "metadata": {},
   "outputs": [
    {
     "data": {
      "text/plain": [
       "tensor(1.)"
      ]
     },
     "execution_count": 67,
     "metadata": {},
     "output_type": "execute_result"
    }
   ],
   "source": [
    "logits = h @ W2 + b2\n",
    "counts = logits.exp()\n",
    "probs = counts / counts.sum(dim=1, keepdim=True)"
   ]
  },
  {
   "cell_type": "code",
   "execution_count": 70,
   "metadata": {},
   "outputs": [
    {
     "data": {
      "text/plain": [
       "tensor(13.8548)"
      ]
     },
     "execution_count": 70,
     "metadata": {},
     "output_type": "execute_result"
    }
   ],
   "source": [
    "loss = -probs[torch.arange(32), y].log().mean() # neg log likelihood\n",
    "loss"
   ]
  },
  {
   "cell_type": "code",
   "execution_count": null,
   "metadata": {},
   "outputs": [],
   "source": [
    "# more presentable"
   ]
  },
  {
   "cell_type": "code",
   "execution_count": 71,
   "metadata": {},
   "outputs": [
    {
     "data": {
      "text/plain": [
       "3481"
      ]
     },
     "execution_count": 71,
     "metadata": {},
     "output_type": "execute_result"
    }
   ],
   "source": [
    "g = torch.Generator().manual_seed(2147483647)\n",
    "C = torch.randn((27, 2), generator=g)\n",
    "W1 = torch.randn((6, 100), generator=g)\n",
    "b1 = torch.randn((100,), generator=g)\n",
    "W2 = torch.randn((100, 27), generator=g)\n",
    "b2 = torch.randn((27,), generator=g)\n",
    "parameters = [C, W1, b1, W2, b2]\n",
    "sum(p.numel() for p in parameters)"
   ]
  },
  {
   "cell_type": "code",
   "execution_count": 74,
   "metadata": {},
   "outputs": [
    {
     "data": {
      "text/plain": [
       "tensor(17.7697)"
      ]
     },
     "execution_count": 74,
     "metadata": {},
     "output_type": "execute_result"
    }
   ],
   "source": [
    "emb = C[X]\n",
    "h = torch.tanh(emb.view((-1, 6)) @ W1 + b1)\n",
    "logits = h @ W2 + b2\n",
    "\n",
    "# counts = logits.exp()\n",
    "# probs = counts / counts.sum(dim=1, keepdim=True)\n",
    "# loss = -probs[torch.arange(emb.shape[0]), y].log().mean() # neg log likelihood\n",
    "loss = F.cross_entropy(logits, y) # shorthand from going from logits to loss\n",
    "loss\n",
    "\n",
    "# why prefer using functions instead of atomic components. \n",
    "# 1) fused kernel: less memory allocations popping off. FORWARD PASS BETTER\n",
    "# 2) simplier expressions for local gradient: people know what the local gradients of cross_entropy function are and can jump straight to that. if you use the atomic components to build it up, you calculate a lot more local gradients than you need to. can use a far simplier mathematical expression. (tanh case in micrograd). BACKWARD PASS BETTER. \n",
    "# 3) when logits are large (100+), you're basically calculating e^100. this is a huge number. cross_entropy function has a way to deal with this. limitations in floating point. pytorch calculates largest number in logits and subtracts it from the logits. this is a trick to avoid overflow. \"you can offset logits by any arbitrary constant value\". NUMERICALLY WELL BEHAVED\n",
    "# e^(a+c) / (e^(a+c) + e^(b+c))\n",
    "# e^a * e^c / e^c * (e^a + e^b)\n",
    "# e^a / (e^a + e^b) => same value with or without c"
   ]
  },
  {
   "cell_type": "code",
   "execution_count": 85,
   "metadata": {},
   "outputs": [
    {
     "data": {
      "text/plain": [
       "tensor([0.0000e+00, 1.4013e-45, 3.7835e-44, 1.0000e+00])"
      ]
     },
     "execution_count": 85,
     "metadata": {},
     "output_type": "execute_result"
    }
   ],
   "source": [
    "\n",
    "logits = torch.tensor([-5, -3, 0, 100]) - 100\n",
    "counts = logits.exp()\n",
    "probs = counts / counts.sum()\n",
    "probs"
   ]
  },
  {
   "cell_type": "code",
   "execution_count": 91,
   "metadata": {},
   "outputs": [],
   "source": [
    "# CREATE DATASET\n",
    "X_list: List[List[int]] = []; y_list: List[int] = []\n",
    "context_length = 3\n",
    "for word in words:\n",
    "    \n",
    "    window = [0] * context_length\n",
    "    for char in word + \".\":\n",
    "        _x = window; X_list.append(_x)\n",
    "        _y = char_to_idx[char]; y_list.append(_y)\n",
    "        window = window[1:] + [char_to_idx[char]]\n",
    "        \n",
    "X = torch.tensor(X_list); y = torch.tensor(y_list)"
   ]
  },
  {
   "cell_type": "code",
   "execution_count": 135,
   "metadata": {},
   "outputs": [],
   "source": [
    "# INIT\n",
    "g = torch.Generator().manual_seed(2147483647)\n",
    "C = torch.randn((27, 2), generator=g)\n",
    "W1 = torch.randn((6, 100), generator=g)\n",
    "b1 = torch.randn((100,), generator=g)\n",
    "W2 = torch.randn((100, 27), generator=g)\n",
    "b2 = torch.randn((27,), generator=g)\n",
    "parameters = [C, W1, b1, W2, b2]\n",
    "sum(p.numel() for p in parameters)\n",
    "\n",
    "for p in parameters: # store gradient information\n",
    "    p.requires_grad = True"
   ]
  },
  {
   "cell_type": "code",
   "execution_count": 136,
   "metadata": {},
   "outputs": [],
   "source": [
    "# torch.linspace(0.001, 1, 1000) # doesn't make sense to step through these linearly...\n",
    "# lre = torch.linspace(-3, 0, 1000)\n",
    "# lrs = 10 ** lre"
   ]
  },
  {
   "cell_type": "code",
   "execution_count": 148,
   "metadata": {},
   "outputs": [
    {
     "name": "stdout",
     "output_type": "stream",
     "text": [
      "2.1478323936462402\n"
     ]
    }
   ],
   "source": [
    "lri = []\n",
    "lossi = []\n",
    "for i in range(10000):\n",
    "    \n",
    "    # MINIBATCH\n",
    "    idxs = torch.randint(0, len(X), (32,)) # size of 32\n",
    "    \n",
    "    # FORWARD PASS\n",
    "    emb = C[X[idxs]]\n",
    "    h = torch.tanh(emb.view((-1, 6)) @ W1 + b1)\n",
    "    logits = h @ W2 + b2\n",
    "    loss = F.cross_entropy(logits, y[idxs])\n",
    "\n",
    "    # BACKWARD PASS\n",
    "    for p in parameters:\n",
    "        p.grad = None\n",
    "    loss.backward()\n",
    "\n",
    "    # APPLY UPDATES \n",
    "    lr = 0.001\n",
    "    for p in parameters:\n",
    "        p.data -= lr * p.grad # type: ignore\n",
    "    \n",
    "    # track stats\n",
    "    # lri.append(lre[i])\n",
    "    # lossi.append(loss.item())\n",
    "        \n",
    "print(loss.item()) # type: ignore"
   ]
  },
  {
   "cell_type": "code",
   "execution_count": 127,
   "metadata": {},
   "outputs": [
    {
     "data": {
      "text/plain": [
       "[<matplotlib.lines.Line2D at 0x1368e5280>]"
      ]
     },
     "execution_count": 127,
     "metadata": {},
     "output_type": "execute_result"
    },
    {
     "data": {
      "image/png": "[encoded data removed]",
      "text/plain": [
       "<Figure size 640x480 with 1 Axes>"
      ]
     },
     "metadata": {},
     "output_type": "display_data"
    }
   ],
   "source": [
    "plt.plot(lri, lossi)"
   ]
  },
  {
   "cell_type": "code",
   "execution_count": 149,
   "metadata": {},
   "outputs": [
    {
     "data": {
      "text/plain": [
       "tensor(2.3287, grad_fn=<NllLossBackward0>)"
      ]
     },
     "execution_count": 149,
     "metadata": {},
     "output_type": "execute_result"
    }
   ],
   "source": [
    "emb = C[X]\n",
    "h = torch.tanh(emb.view((-1, 6)) @ W1 + b1)\n",
    "logits = h @ W2 + b2\n",
    "loss = F.cross_entropy(logits, y)\n",
    "loss"
   ]
  },
  {
   "cell_type": "code",
   "execution_count": null,
   "metadata": {},
   "outputs": [],
   "source": [
    "# BATCHING\n",
    "# We have 220k examples. 220k forward passes calculated to get loss. Backward pass has to do a lot of gradient accumulation. \n",
    "# takes a lot longer to take a step as training set increases in size\n",
    "# with a minibatch, takes a lot less time to take a step. this comes at the cost of less accuracy in steps, but that often is not that costly. gradient direction is lower quality, but it's still good enough. \n",
    "# better to have an approximate gradient and take many steps, as opposed to having an exact gradient and taking few steps. "
   ]
  },
  {
   "cell_type": "code",
   "execution_count": null,
   "metadata": {},
   "outputs": [],
   "source": [
    "# FINDING LEARNING RATE\n",
    "# Just try some shit out \n",
    "# Find where learning rate goes at a fucking crawl\n",
    "# Find where it explodes"
   ]
  },
  {
   "cell_type": "code",
   "execution_count": null,
   "metadata": {},
   "outputs": [],
   "source": [
    "# training, dev/validation, test\n",
    "# training - used to optimize parameters of model\n",
    "# validation - used for development over hyperparameters (optimize hyperparameters)\n",
    "# test - used for validation - every time you evaluate on your test loss, and you learn something from it and improve because of it, you are basically starting to train on the test split as well"
   ]
  },
  {
   "cell_type": "code",
   "execution_count": 154,
   "metadata": {},
   "outputs": [
    {
     "data": {
      "text/plain": [
       "(182437, 22781, 22928)"
      ]
     },
     "execution_count": 154,
     "metadata": {},
     "output_type": "execute_result"
    }
   ],
   "source": [
    "# CREATE DATASET\n",
    "\n",
    "def build_dataset(words):\n",
    "    X_list: List[List[int]] = []; y_list: List[int] = []\n",
    "    context_length = 3\n",
    "    for word in words:\n",
    "        \n",
    "        window = [0] * context_length\n",
    "        for char in word + \".\":\n",
    "            _x = window; X_list.append(_x)\n",
    "            _y = char_to_idx[char]; y_list.append(_y)\n",
    "            window = window[1:] + [char_to_idx[char]]\n",
    "            \n",
    "    X = torch.tensor(X_list); y = torch.tensor(y_list)\n",
    "    \n",
    "    return X, y\n",
    "\n",
    "import random\n",
    "random.seed(42)\n",
    "random.shuffle(words)\n",
    "n1 = int(0.8 * len(words)); n2 = int(0.9 * len(words))\n",
    "\n",
    "X_train, y_train = build_dataset(words[:n1])\n",
    "X_dev, y_dev = build_dataset(words[n1:n2])\n",
    "X_test, y_test = build_dataset(words[n2:])\n",
    "\n",
    "X_train.shape[0], X_dev.shape[0], X_test.shape[0]"
   ]
  },
  {
   "cell_type": "code",
   "execution_count": 173,
   "metadata": {},
   "outputs": [
    {
     "name": "stdout",
     "output_type": "stream",
     "text": [
      "10281\n"
     ]
    }
   ],
   "source": [
    "# INIT MODEL\n",
    "g = torch.Generator().manual_seed(2147483647)\n",
    "C = torch.randn((27, 2), generator=g)\n",
    "W1 = torch.randn((6, 300), generator=g)\n",
    "b1 = torch.randn((300,), generator=g)\n",
    "W2 = torch.randn((300, 27), generator=g)\n",
    "b2 = torch.randn((27,), generator=g)\n",
    "parameters = [C, W1, b1, W2, b2]\n",
    "print(sum(p.numel() for p in parameters))\n",
    "\n",
    "for p in parameters: # store gradient information\n",
    "    p.requires_grad = True"
   ]
  },
  {
   "cell_type": "code",
   "execution_count": 188,
   "metadata": {},
   "outputs": [
    {
     "name": "stdout",
     "output_type": "stream",
     "text": [
      "2.3386178016662598\n"
     ]
    }
   ],
   "source": [
    "# TRAINING LOOP\n",
    "lossi = []\n",
    "stepi = []\n",
    "for i in range(30000):\n",
    "    # MINIBATCH\n",
    "    idxs = torch.randint(0, len(X_train), (32,)) # size of 32\n",
    "    \n",
    "    # FORWARD PASS\n",
    "    emb = C[X_train[idxs]]\n",
    "    h = torch.tanh(emb.view((-1, 6)) @ W1 + b1)\n",
    "    logits = h @ W2 + b2\n",
    "    loss = F.cross_entropy(logits, y_train[idxs])\n",
    "\n",
    "    # BACKWARD PASS\n",
    "    for p in parameters:\n",
    "        p.grad = None\n",
    "    loss.backward()\n",
    "\n",
    "    # APPLY UPDATES \n",
    "    lr = 0.01\n",
    "    for p in parameters:\n",
    "        p.data -= lr * p.grad # type: ignore\n",
    "        \n",
    "    # tracking\n",
    "    stepi.append(i)\n",
    "    lossi.append(loss.item())\n",
    "        \n",
    "print(loss.item()) # type: ignore"
   ]
  },
  {
   "cell_type": "code",
   "execution_count": 175,
   "metadata": {},
   "outputs": [
    {
     "data": {
      "text/plain": [
       "[<matplotlib.lines.Line2D at 0x136d964c0>]"
      ]
     },
     "execution_count": 175,
     "metadata": {},
     "output_type": "execute_result"
    },
    {
     "data": {
      "image/png": "[encoded data removed]",
      "text/plain": [
       "<Figure size 640x480 with 1 Axes>"
      ]
     },
     "metadata": {},
     "output_type": "display_data"
    }
   ],
   "source": [
    "# thickness b.c. mini batches create noise\n",
    "# if the batch size is too small, the gradient could be innacurate to the point learning slows down. minibatching becomes counterproductive in this case. \n",
    "# could also be a matter of bottle-necking. where the 2d vector is too small. increasing layers downstream could very well not help. \n",
    "plt.plot(stepi, lossi)"
   ]
  },
  {
   "cell_type": "code",
   "execution_count": 189,
   "metadata": {},
   "outputs": [
    {
     "data": {
      "text/plain": [
       "tensor(2.2334, grad_fn=<NllLossBackward0>)"
      ]
     },
     "execution_count": 189,
     "metadata": {},
     "output_type": "execute_result"
    }
   ],
   "source": [
    "emb = C[X_train]\n",
    "h = torch.tanh(emb.view((-1, 6)) @ W1 + b1)\n",
    "logits = h @ W2 + b2\n",
    "loss = F.cross_entropy(logits, y_train)\n",
    "loss"
   ]
  },
  {
   "cell_type": "code",
   "execution_count": 190,
   "metadata": {},
   "outputs": [
    {
     "data": {
      "text/plain": [
       "tensor(2.2622, grad_fn=<NllLossBackward0>)"
      ]
     },
     "execution_count": 190,
     "metadata": {},
     "output_type": "execute_result"
    }
   ],
   "source": [
    "emb = C[X_dev]\n",
    "h = torch.tanh(emb.view((-1, 6)) @ W1 + b1)\n",
    "logits = h @ W2 + b2\n",
    "loss = F.cross_entropy(logits, y_dev)\n",
    "loss"
   ]
  },
  {
   "cell_type": "code",
   "execution_count": null,
   "metadata": {},
   "outputs": [],
   "source": [
    "# train and val losses are about the same. we have not gotten to the point of overfitting. another possibility is that this model is not complex enough to overfit.\n",
    "# bottle neck could be the word embeddings. so we'll change that. (I would've never been able to think of this)"
   ]
  },
  {
   "cell_type": "code",
   "execution_count": 191,
   "metadata": {},
   "outputs": [
    {
     "data": {
      "image/png": "[encoded data removed]",
      "text/plain": [
       "<Figure size 800x800 with 1 Axes>"
      ]
     },
     "metadata": {},
     "output_type": "display_data"
    }
   ],
   "source": [
    "# visualizing embeddings\n",
    "plt.figure(figsize=(8, 8))\n",
    "plt.scatter(C[:, 0].data, C[:, 1].data, s=200)\n",
    "for i in range(C.shape[0]):\n",
    "    plt.text(C[i, 0].item(), C[i, 1].item(), idx_to_char[i], ha=\"center\", va=\"center\", color=\"white\")\n",
    "plt.grid(\"minor\") # type: ignore"
   ]
  },
  {
   "attachments": {},
   "cell_type": "markdown",
   "metadata": {},
   "source": [
    "## INCREASING EMBEDDING DIMENSIONALITY"
   ]
  },
  {
   "cell_type": "code",
   "execution_count": 198,
   "metadata": {},
   "outputs": [
    {
     "name": "stdout",
     "output_type": "stream",
     "text": [
      "11897\n"
     ]
    }
   ],
   "source": [
    "# INIT MODEL\n",
    "g = torch.Generator().manual_seed(2147483647)\n",
    "C = torch.randn((27, 10), generator=g)\n",
    "W1 = torch.randn((30, 200), generator=g)\n",
    "b1 = torch.randn((200,), generator=g)\n",
    "W2 = torch.randn((200, 27), generator=g)\n",
    "b2 = torch.randn((27,), generator=g)\n",
    "parameters = [C, W1, b1, W2, b2]\n",
    "print(sum(p.numel() for p in parameters))\n",
    "\n",
    "for p in parameters: # store gradient information\n",
    "    p.requires_grad = True"
   ]
  },
  {
   "cell_type": "code",
   "execution_count": 199,
   "metadata": {},
   "outputs": [],
   "source": [
    "lossi = []\n",
    "stepi = []"
   ]
  },
  {
   "cell_type": "code",
   "execution_count": 209,
   "metadata": {},
   "outputs": [
    {
     "name": "stdout",
     "output_type": "stream",
     "text": [
      "1.9476280212402344\n"
     ]
    }
   ],
   "source": [
    "# TRAINING LOOP\n",
    "for i in range(50000):\n",
    "    # MINIBATCH\n",
    "    idxs = torch.randint(0, len(X_train), (32,)) # size of 32\n",
    "    \n",
    "    # FORWARD PASS\n",
    "    emb = C[X_train[idxs]]\n",
    "    h = torch.tanh(emb.view((-1, 30)) @ W1 + b1)\n",
    "    logits = h @ W2 + b2\n",
    "    loss = F.cross_entropy(logits, y_train[idxs])\n",
    "\n",
    "    # BACKWARD PASS\n",
    "    for p in parameters:\n",
    "        p.grad = None\n",
    "    loss.backward()\n",
    "\n",
    "    # APPLY UPDATES \n",
    "    lr = 0.01\n",
    "    for p in parameters:\n",
    "        p.data -= lr * p.grad # type: ignore\n",
    "        \n",
    "    # tracking\n",
    "    stepi.append(i)\n",
    "    lossi.append(loss.log10().item())\n",
    "        \n",
    "print(loss.item()) # type: ignore"
   ]
  },
  {
   "cell_type": "code",
   "execution_count": 201,
   "metadata": {},
   "outputs": [
    {
     "data": {
      "text/plain": [
       "[<matplotlib.lines.Line2D at 0x136d51b50>]"
      ]
     },
     "execution_count": 201,
     "metadata": {},
     "output_type": "execute_result"
    },
    {
     "data": {
      "image/png": "[encoded data removed]",
      "text/plain": [
       "<Figure size 640x480 with 1 Axes>"
      ]
     },
     "metadata": {},
     "output_type": "display_data"
    }
   ],
   "source": [
    "# 50k steps\n",
    "plt.plot(stepi, lossi)"
   ]
  },
  {
   "cell_type": "code",
   "execution_count": 206,
   "metadata": {},
   "outputs": [
    {
     "data": {
      "text/plain": [
       "[<matplotlib.lines.Line2D at 0x1373ee130>]"
      ]
     },
     "execution_count": 206,
     "metadata": {},
     "output_type": "execute_result"
    },
    {
     "data": {
      "image/png": "[encoded data removed]",
      "text/plain": [
       "<Figure size 640x480 with 1 Axes>"
      ]
     },
     "metadata": {},
     "output_type": "display_data"
    }
   ],
   "source": [
    "# 100k steps\n",
    "plt.plot(stepi, lossi)"
   ]
  },
  {
   "cell_type": "code",
   "execution_count": null,
   "metadata": {},
   "outputs": [],
   "source": [
    "# 150k steps\n",
    "plt.plot(stepi, lossi)"
   ]
  },
  {
   "cell_type": "code",
   "execution_count": 210,
   "metadata": {},
   "outputs": [
    {
     "data": {
      "text/plain": [
       "tensor(2.1675, grad_fn=<NllLossBackward0>)"
      ]
     },
     "execution_count": 210,
     "metadata": {},
     "output_type": "execute_result"
    }
   ],
   "source": [
    "emb = C[X_train]\n",
    "h = torch.tanh(emb.view((-1, 30)) @ W1 + b1)\n",
    "logits = h @ W2 + b2\n",
    "loss = F.cross_entropy(logits, y_train)\n",
    "loss"
   ]
  },
  {
   "cell_type": "code",
   "execution_count": 211,
   "metadata": {},
   "outputs": [
    {
     "data": {
      "text/plain": [
       "tensor(2.2069, grad_fn=<NllLossBackward0>)"
      ]
     },
     "execution_count": 211,
     "metadata": {},
     "output_type": "execute_result"
    }
   ],
   "source": [
    "emb = C[X_dev]\n",
    "h = torch.tanh(emb.view((-1, 30)) @ W1 + b1)\n",
    "logits = h @ W2 + b2\n",
    "loss = F.cross_entropy(logits, y_dev)\n",
    "loss"
   ]
  },
  {
   "cell_type": "code",
   "execution_count": null,
   "metadata": {},
   "outputs": [],
   "source": [
    "# Now, the train and validation losses are starting to drift apart. This suggests that the model is starting to overfit. Before there was no departure whatsoever. That implies that the model is not complex enough to overfit. Most likely means that the model is underfitting. Go until you overfit, and that's how you know that you're underfitting. \n",
    "# Something to note is that you will rarely touch the test set. Since theoretically, if you see the outputs and make an improvement based upon that, you've fit to it to some extent. As a result, once you're happy with your dev loss, you run it on your test set ONCE (ideally), and report that number in your paper. "
   ]
  },
  {
   "cell_type": "code",
   "execution_count": 216,
   "metadata": {},
   "outputs": [
    {
     "name": "stdout",
     "output_type": "stream",
     "text": [
      "junide.\n",
      "jakarie.\n",
      "presay.\n",
      "adin.\n",
      "koim.\n",
      "laizer.\n",
      "saree.\n",
      "kalinaacyanilenias.\n",
      "dedailewi.\n",
      "tavsery.\n",
      "evy.\n",
      "arterindelmarifortume.\n",
      "ponne.\n",
      "walesani.\n",
      "core.\n",
      "yar.\n",
      "octay.\n",
      "jamir.\n",
      "edimiil.\n",
      "wyn.\n"
     ]
    }
   ],
   "source": [
    "# sampling from this model\n",
    "g = torch.Generator().manual_seed(2147483647)\n",
    "\n",
    "for _ in range(20):\n",
    "    out = []\n",
    "    context = [0] * context_length\n",
    "    while True:\n",
    "        emb = C[torch.tensor(context)]\n",
    "        h = torch.tanh(emb.view((-1, 30)) @ W1 + b1)\n",
    "        logits = h @ W2 + b2\n",
    "        probs = F.softmax(logits, dim=1)\n",
    "        \n",
    "        idx = torch.multinomial(probs, 1, generator=g).item()\n",
    "        context = context[1:] + [idx]\n",
    "        out.append(idx)\n",
    "        \n",
    "        if idx == 0:\n",
    "            break\n",
    "        \n",
    "    print(\"\".join(idx_to_char[i] for i in out))\n",
    "        "
   ]
  },
  {
   "attachments": {},
   "cell_type": "markdown",
   "metadata": {},
   "source": [
    "## Attempting to beat Performance Metrics\n",
    "- My ideas. \n",
    "    - **Increase the amount of characters available as information**\n",
    "    - Increase batch size. Loss thrashes around a little too much. Having more accurate gradients would likely help. Increase size of hidden layer. \n",
    "    - Keep the 10 dimensional embedding. That probably helps quite a bit. \n",
    "\n",
    "AIMING TO BEAT 2.17 on validation loss\n",
    "- Knobs mentioned\n",
    "    - Increase size of hidden layer -> 300 neurons\n",
    "    - Increase dimensionality of encodings == same\n",
    "    - Change # of previous characters used -> 5 characters\n",
    "    - Adjust learning rate and how it decays -> 0.1 - 0.01 (100k steps)\n",
    "    - Increase batch size -> 128 batch size"
   ]
  },
  {
   "cell_type": "code",
   "execution_count": 243,
   "metadata": {},
   "outputs": [
    {
     "data": {
      "text/plain": [
       "(182512, 22860, 22774)"
      ]
     },
     "execution_count": 243,
     "metadata": {},
     "output_type": "execute_result"
    }
   ],
   "source": [
    "# CREATE DATASET\n",
    "\n",
    "def build_dataset(words):\n",
    "    X_list: List[List[int]] = []; y_list: List[int] = []\n",
    "    context_length = 5\n",
    "    for word in words:\n",
    "        \n",
    "        window = [0] * context_length\n",
    "        for char in word + \".\":\n",
    "            _x = window; X_list.append(_x)\n",
    "            _y = char_to_idx[char]; y_list.append(_y)\n",
    "            window = window[1:] + [char_to_idx[char]]\n",
    "            \n",
    "    X = torch.tensor(X_list); y = torch.tensor(y_list)\n",
    "    \n",
    "    return X, y\n",
    "\n",
    "import random\n",
    "random.seed(42)\n",
    "random.shuffle(words)\n",
    "n1 = int(0.8 * len(words)); n2 = int(0.9 * len(words))\n",
    "\n",
    "X_train, y_train = build_dataset(words[:n1])\n",
    "X_dev, y_dev = build_dataset(words[n1:n2])\n",
    "X_test, y_test = build_dataset(words[n2:])\n",
    "\n",
    "X_train.shape[0], X_dev.shape[0], X_test.shape[0]"
   ]
  },
  {
   "cell_type": "code",
   "execution_count": 244,
   "metadata": {},
   "outputs": [
    {
     "name": "stdout",
     "output_type": "stream",
     "text": [
      "..... ---> e\n",
      "....e ---> m\n",
      "...em ---> e\n",
      "..eme ---> r\n",
      ".emer ---> s\n",
      "emers ---> e\n",
      "merse ---> n\n",
      "ersen ---> .\n",
      "..... ---> m\n",
      "....m ---> e\n"
     ]
    }
   ],
   "source": [
    "for i in range(10):\n",
    "    inp = [idx_to_char[temp.item()] for temp in X_train[i]] # type: ignore\n",
    "    print(f\"{''.join(inp)} ---> {idx_to_char[y_train[i].item()]}\") # type: ignore"
   ]
  },
  {
   "cell_type": "code",
   "execution_count": 245,
   "metadata": {},
   "outputs": [
    {
     "name": "stdout",
     "output_type": "stream",
     "text": [
      "19797\n"
     ]
    }
   ],
   "source": [
    "# INIT MODEL\n",
    "g = torch.Generator().manual_seed(2147483647)\n",
    "C = torch.randn((27, 10), generator=g)\n",
    "W1 = torch.randn((50, 250), generator=g)\n",
    "b1 = torch.randn((250,), generator=g)\n",
    "W2 = torch.randn((250, 27), generator=g)\n",
    "b2 = torch.randn((27,), generator=g)\n",
    "parameters = [C, W1, b1, W2, b2]\n",
    "print(sum(p.numel() for p in parameters))\n",
    "\n",
    "for p in parameters: # store gradient information\n",
    "    p.requires_grad = True"
   ]
  },
  {
   "cell_type": "code",
   "execution_count": 246,
   "metadata": {},
   "outputs": [
    {
     "name": "stdout",
     "output_type": "stream",
     "text": [
      "000000: 30.2042\n",
      "001000: 7.0239\n",
      "002000: 6.0267\n",
      "003000: 4.8375\n",
      "004000: 3.8930\n",
      "005000: 5.7879\n",
      "006000: 2.4770\n",
      "007000: 2.1932\n",
      "008000: 2.3362\n",
      "009000: 2.5565\n",
      "010000: 2.5055\n",
      "011000: 2.6277\n",
      "012000: 2.3026\n",
      "013000: 2.3159\n",
      "014000: 2.1905\n",
      "015000: 2.5310\n",
      "016000: 2.4786\n",
      "017000: 2.4778\n",
      "018000: 2.2631\n",
      "019000: 2.1991\n",
      "020000: 2.0872\n",
      "021000: 2.2176\n",
      "022000: 2.3484\n",
      "023000: 2.3433\n",
      "024000: 2.3627\n",
      "025000: 2.2938\n",
      "026000: 2.0786\n",
      "027000: 2.2539\n",
      "028000: 2.2739\n",
      "029000: 2.1178\n",
      "030000: 1.9420\n",
      "031000: 1.9152\n",
      "032000: 1.9926\n",
      "033000: 2.0493\n",
      "034000: 2.0167\n",
      "035000: 2.1238\n",
      "036000: 2.0184\n",
      "037000: 1.8518\n",
      "038000: 1.9202\n",
      "039000: 2.1357\n",
      "040000: 2.1718\n",
      "041000: 2.1142\n",
      "042000: 2.1716\n",
      "043000: 1.9433\n",
      "044000: 2.0595\n",
      "045000: 2.0563\n",
      "046000: 1.9985\n",
      "047000: 1.9425\n",
      "048000: 1.9440\n",
      "049000: 2.2430\n",
      "050000: 1.9575\n",
      "051000: 2.1037\n",
      "052000: 2.1557\n",
      "053000: 1.9823\n",
      "054000: 2.0188\n",
      "055000: 2.0676\n",
      "056000: 2.0955\n",
      "057000: 1.9312\n",
      "058000: 2.0018\n",
      "059000: 1.9201\n",
      "060000: 2.0190\n",
      "061000: 2.0053\n",
      "062000: 1.9672\n",
      "063000: 2.0146\n",
      "064000: 1.9457\n",
      "065000: 2.0971\n",
      "066000: 2.0747\n",
      "067000: 1.9409\n",
      "068000: 2.0727\n",
      "069000: 2.0713\n",
      "070000: 2.2215\n",
      "071000: 2.1469\n",
      "072000: 1.9893\n",
      "073000: 1.9636\n",
      "074000: 1.9581\n",
      "075000: 1.9244\n",
      "076000: 2.0951\n",
      "077000: 2.0751\n",
      "078000: 2.0970\n",
      "079000: 2.1144\n",
      "080000: 2.1339\n",
      "081000: 2.0411\n",
      "082000: 2.1592\n",
      "083000: 1.8741\n",
      "084000: 1.9690\n",
      "085000: 1.9875\n",
      "086000: 1.9679\n",
      "087000: 2.0592\n",
      "088000: 2.1352\n",
      "089000: 1.9223\n",
      "090000: 1.8629\n",
      "091000: 1.9985\n",
      "092000: 2.1552\n",
      "093000: 1.9119\n",
      "094000: 1.9158\n",
      "095000: 1.9581\n",
      "096000: 1.9093\n",
      "097000: 1.7668\n",
      "098000: 2.0609\n",
      "099000: 2.0680\n",
      "1.9185373783111572\n"
     ]
    }
   ],
   "source": [
    "# TRAINING LOOP\n",
    "for i in range(100000):\n",
    "    # MINIBATCH\n",
    "    idxs = torch.randint(0, len(X_train), (128,))\n",
    "    \n",
    "    # FORWARD PASS\n",
    "    emb = C[X_train[idxs]]\n",
    "    h = torch.tanh(emb.view((-1, 50)) @ W1 + b1)\n",
    "    logits = h @ W2 + b2\n",
    "    loss = F.cross_entropy(logits, y_train[idxs])\n",
    "\n",
    "    # BACKWARD PASS\n",
    "    for p in parameters:\n",
    "        p.grad = None\n",
    "    loss.backward()\n",
    "\n",
    "    # APPLY UPDATES \n",
    "    \n",
    "    lr = None\n",
    "    if i < 5000:\n",
    "        lr = 1\n",
    "    elif i < 25000: # maybe 20000\n",
    "        lr = 0.5\n",
    "    elif i < 40000: \n",
    "        lr = 0.1\n",
    "    elif i < 75000: # maybe 55000 - spend more time with fine adjustments. Some way to automatically try loss (adam) would be most likely helpful. \n",
    "        lr = 0.01\n",
    "    else:\n",
    "        lr = 0.005\n",
    "        \n",
    "    for p in parameters:\n",
    "        p.data -= lr * p.grad # type: ignore\n",
    "        \n",
    "    # tracking\n",
    "    stepi.append(i)\n",
    "    lossi.append(loss.log10().item())\n",
    "    \n",
    "    if i % 1000 == 0:\n",
    "        print(f\"{i:06}: {loss.item():.4f}\")\n",
    "        \n",
    "print(loss.item()) # type: ignore"
   ]
  },
  {
   "cell_type": "code",
   "execution_count": 247,
   "metadata": {},
   "outputs": [
    {
     "data": {
      "text/plain": [
       "[<matplotlib.lines.Line2D at 0x138468a00>]"
      ]
     },
     "execution_count": 247,
     "metadata": {},
     "output_type": "execute_result"
    },
    {
     "data": {
      "image/png": "[encoded data removed]",
      "text/plain": [
       "<Figure size 640x480 with 1 Axes>"
      ]
     },
     "metadata": {},
     "output_type": "display_data"
    }
   ],
   "source": [
    "# ???\n",
    "plt.plot(stepi, lossi)"
   ]
  },
  {
   "cell_type": "code",
   "execution_count": 248,
   "metadata": {},
   "outputs": [
    {
     "data": {
      "text/plain": [
       "tensor(1.9984, grad_fn=<NllLossBackward0>)"
      ]
     },
     "execution_count": 248,
     "metadata": {},
     "output_type": "execute_result"
    }
   ],
   "source": [
    "emb = C[X_train]\n",
    "h = torch.tanh(emb.view((-1, 50)) @ W1 + b1)\n",
    "logits = h @ W2 + b2\n",
    "loss = F.cross_entropy(logits, y_train)\n",
    "loss"
   ]
  },
  {
   "cell_type": "code",
   "execution_count": 249,
   "metadata": {},
   "outputs": [
    {
     "data": {
      "text/plain": [
       "tensor(2.1087, grad_fn=<NllLossBackward0>)"
      ]
     },
     "execution_count": 249,
     "metadata": {},
     "output_type": "execute_result"
    }
   ],
   "source": [
    "emb = C[X_dev]\n",
    "h = torch.tanh(emb.view((-1, 50)) @ W1 + b1)\n",
    "logits = h @ W2 + b2\n",
    "loss = F.cross_entropy(logits, y_dev)\n",
    "loss"
   ]
  },
  {
   "cell_type": "code",
   "execution_count": null,
   "metadata": {},
   "outputs": [],
   "source": [
    "# well, i beat it. 2.1087. Learning Rate was important. There were periods of time where it just kinda thrashed around. No finese to get into the good spots. increasing batch sizes over time could also help. "
   ]
  },
  {
   "cell_type": "code",
   "execution_count": 255,
   "metadata": {},
   "outputs": [
    {
     "name": "stdout",
     "output_type": "stream",
     "text": [
      "rowia.\n",
      "yem.\n",
      "jaki.\n",
      "mil.\n",
      "amariah.\n",
      "kovani.\n",
      "leanor.\n",
      "luchi.\n",
      "wedla.\n",
      "makay.\n",
      "luzak.\n",
      "mungella.\n",
      "jeoni.\n",
      "aloi.\n",
      "jalandelah.\n",
      "rhany.\n",
      "ilii.\n",
      "noir.\n",
      "nya.\n",
      "edry.\n",
      "lyorelee.\n",
      "evrion.\n",
      "kuelah.\n",
      "yanex.\n",
      "zakari.\n",
      "niiri.\n",
      "lon.\n",
      "rodel.\n",
      "kaison.\n",
      "khitha.\n",
      "oynoye.\n",
      "norie.\n",
      "moana.\n",
      "lon.\n",
      "xinlinn.\n",
      "aqacham.\n",
      "zakerest.\n",
      "novan.\n",
      "ko.\n",
      "haddo.\n",
      "braxtiona.\n",
      "evyar.\n",
      "matim.\n",
      "kion.\n",
      "jaylin.\n",
      "doniel.\n",
      "jonyel.\n",
      "jucbriann.\n",
      "caesen.\n",
      "hani.\n",
      "jaxier.\n",
      "aeghonyen.\n",
      "bavyriy.\n",
      "braxth.\n",
      "demet.\n",
      "tayanah.\n",
      "bevally.\n",
      "samaracelidia.\n",
      "foassa.\n",
      "jamare.\n",
      "thlyz.\n",
      "indva.\n",
      "caestin.\n",
      "risha.\n",
      "omansa.\n",
      "rae.\n",
      "yathwan.\n",
      "fino.\n",
      "konnen.\n",
      "padde.\n",
      "kayah.\n",
      "nashi.\n",
      "mavi.\n",
      "jaylin.\n",
      "andersone.\n",
      "mesken.\n",
      "valie.\n",
      "cakou.\n",
      "harmy.\n",
      "samadah.\n",
      "amyra.\n",
      "framil.\n",
      "braleigh.\n",
      "karon.\n",
      "emmera.\n",
      "rawia.\n",
      "lasece.\n",
      "jamia.\n",
      "berlan.\n",
      "demmithinkan.\n",
      "cabeliah.\n",
      "nora.\n",
      "leeliciu.\n",
      "kehzen.\n",
      "adiel.\n",
      "kyndite.\n",
      "daive.\n",
      "priste.\n",
      "kasia.\n",
      "muhranuloun.\n",
      "bateta.\n",
      "toube.\n",
      "jentrea.\n",
      "japkinnysi.\n",
      "neymonu.\n",
      "quon.\n",
      "dunna.\n",
      "zalany.\n",
      "manalyna.\n",
      "annaler.\n",
      "dignay.\n",
      "amond.\n",
      "madantay.\n",
      "kamari.\n",
      "yoni.\n",
      "kolly.\n",
      "benix.\n",
      "lous.\n",
      "sufer.\n",
      "trayven.\n",
      "jlynnn.\n",
      "ktin.\n",
      "nestyn.\n",
      "connyn.\n",
      "heaghan.\n",
      "casemy.\n",
      "leisa.\n",
      "edin.\n",
      "keenah.\n",
      "bassi.\n",
      "topy.\n",
      "malaya.\n",
      "kina.\n",
      "idean.\n",
      "treira.\n",
      "zaddin.\n",
      "kentarm.\n",
      "daryja.\n",
      "aardandon.\n",
      "jazarie.\n",
      "talon.\n",
      "chalo.\n",
      "silve.\n",
      "deryco.\n",
      "elby.\n",
      "aakvillana.\n",
      "aamery.\n",
      "alessine.\n",
      "wi.\n",
      "chardis.\n",
      "sayson.\n",
      "hazen.\n",
      "madri.\n",
      "serraanna.\n",
      "jesman.\n",
      "lucyla.\n",
      "keelin.\n",
      "rhylie.\n",
      "hemia.\n",
      "cylan.\n",
      "mah.\n",
      "yatan.\n",
      "elena.\n",
      "pihila.\n",
      "vira.\n",
      "apsaly.\n",
      "kritos.\n",
      "tiagiesa.\n",
      "berkie.\n",
      "landrei.\n",
      "quintey.\n",
      "camar.\n",
      "jaceer.\n",
      "artona.\n",
      "kestir.\n",
      "sharlam.\n",
      "mihi.\n",
      "norah.\n",
      "zylon.\n",
      "millyn.\n",
      "herna.\n",
      "zayleigh.\n",
      "shamymi.\n",
      "indeighaik.\n",
      "adeline.\n",
      "sree.\n",
      "jaylun.\n",
      "kaison.\n",
      "dorny.\n",
      "ezyah.\n",
      "seoda.\n",
      "ozesserea.\n",
      "nika.\n",
      "haveelejiar.\n",
      "jaylee.\n",
      "rosan.\n",
      "devora.\n",
      "divito.\n",
      "cymaer.\n",
      "julia.\n"
     ]
    }
   ],
   "source": [
    "# sampling from this model\n",
    "g = torch.Generator().manual_seed(2147483647 + 16) # 0 10 20\n",
    "\n",
    "for _ in range(200):\n",
    "    out = []\n",
    "    context = [0] * 5\n",
    "    while True:\n",
    "        emb = C[torch.tensor(context)]\n",
    "        h = torch.tanh(emb.view((-1, 50)) @ W1 + b1)\n",
    "        logits = h @ W2 + b2\n",
    "        probs = F.softmax(logits, dim=1)\n",
    "        \n",
    "        idx = torch.multinomial(probs, 1, generator=g).item()\n",
    "        context = context[1:] + [idx]\n",
    "        out.append(idx)\n",
    "        \n",
    "        if idx == 0:\n",
    "            break\n",
    "        \n",
    "    print(\"\".join(idx_to_char[i] for i in out))\n",
    "    \n",
    "# monaim => moniam\n",
    "# rowia\n",
    "# kaison\n",
    "# manalyna -> manalyn\n",
    "# leisa\n",
    "# serraanna -> serana\n",
    "# julia\n",
    "# herna -> hernathas\n",
    "# kasia -> kasiya\n",
    "# priste\n",
    "# kehzen -> kezia"
   ]
  }
 ],
 "metadata": {
  "kernelspec": {
   "display_name": "dsc80_39",
   "language": "python",
   "name": "python3"
  },
  "language_info": {
   "codemirror_mode": {
    "name": "ipython",
    "version": 3
   },
   "file_extension": ".py",
   "mimetype": "text/x-python",
   "name": "python",
   "nbconvert_exporter": "python",
   "pygments_lexer": "ipython3",
   "version": "3.8.16"
  },
  "orig_nbformat": 4
 },
 "nbformat": 4,
 "nbformat_minor": 2
}
